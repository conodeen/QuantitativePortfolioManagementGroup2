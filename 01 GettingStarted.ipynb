{
 "cells": [
  {
   "cell_type": "markdown",
   "metadata": {},
   "source": [
    "## GettingStarted.ipynb\n",
    "\n",
    "In this code, we will run basic Python code to make sure Python is properly installed at your device.\n",
    "\n",
    "Code for the Chicago Booth course on Quantitative Portfolio Management by Ralph S.J. Koijen and Sangmin S. Oh."
   ]
  },
  {
   "cell_type": "markdown",
   "metadata": {},
   "source": [
    "### 1. Importing Packages\n",
    "\n",
    "This notebook tests that your Python installation works. \n",
    "\n",
    "- You can download the data from: https://www.dropbox.com/sh/4037o7e62tpksks/AAApH_HbTBrFT1mcHpe0jAFia?dl=0. \n",
    "- Please copy the files in the Data folder: `GettingStartedSample.dta` and `GettingStartedSample.csv` to a local folder. \n",
    "\n",
    "Now we're ready to start! The goal is not to understand the code yet (we will by the end of the course); just to see that you Python installation works.\n",
    "\n",
    "Every box that has \"[]:\" in front of it needs to be run. To run it, put your cursor in the box and then push the \"play button\" on top. Alternatively, you can press \"shift+enter.\""
   ]
  },
  {
   "cell_type": "code",
   "execution_count": null,
   "metadata": {},
   "outputs": [],
   "source": [
    "import pandas as pd \n",
    "import matplotlib.pyplot as plt \n",
    "\n",
    "print('Packages successfully imported..!')"
   ]
  },
  {
   "cell_type": "markdown",
   "metadata": {},
   "source": [
    "Before we get started, make sure to enter the path to your directory that contains the data:"
   ]
  },
  {
   "cell_type": "code",
   "execution_count": null,
   "metadata": {},
   "outputs": [],
   "source": [
    "_DATA_DIR = '../Data'      # <-- Edit this line"
   ]
  },
  {
   "cell_type": "markdown",
   "metadata": {},
   "source": [
    "## GettingStarted.ipynb\n",
    "\n",
    "This script is intended to make sure that Python 3 is installed properly."
   ]
  },
  {
   "cell_type": "markdown",
   "metadata": {},
   "source": [
    "### 2. Loading Data\n",
    "\n",
    "We will use two types of data: `.dta` files and `.csv` files.\n",
    "\n",
    "For importing `dta` files, we will use the `read_stata` function available in the `pandas` package:"
   ]
  },
  {
   "cell_type": "code",
   "execution_count": null,
   "metadata": {},
   "outputs": [],
   "source": [
    "df = pd.read_stata('%s/GettingStartedSample.dta' %(_DATA_DIR)).set_index('date')\n",
    "print(df.head(5))\n",
    "print('\\n.dta file successfully loaded!')"
   ]
  },
  {
   "cell_type": "markdown",
   "metadata": {},
   "source": [
    "For importing `csv` files, we will use the `read_csv` function also available in the `pandas` package:"
   ]
  },
  {
   "cell_type": "code",
   "execution_count": null,
   "metadata": {},
   "outputs": [],
   "source": [
    "df_csv = pd.read_csv('%s/GettingStartedSample.csv' %(_DATA_DIR), index_col = 3)\n",
    "print(df_csv.head(5))\n",
    "print('\\n.csv file successfully loaded!')"
   ]
  },
  {
   "cell_type": "markdown",
   "metadata": {},
   "source": [
    "### 3. Plotting Data\n",
    "\n",
    "We will create a basic plot to test the functionality:"
   ]
  },
  {
   "cell_type": "code",
   "execution_count": null,
   "metadata": {},
   "outputs": [],
   "source": [
    "fig = plt.figure(figsize = (12, 6))\n",
    "plt.plot(df[['prc']], color = 'maroon', linestyle = '--')\n",
    "plt.show()\n",
    "plt.close()\n",
    "print('\\nPlot successfully plotted!')"
   ]
  }
 ],
 "metadata": {
  "kernelspec": {
   "display_name": "Python 3 (ipykernel)",
   "language": "python",
   "name": "python3"
  },
  "language_info": {
   "codemirror_mode": {
    "name": "ipython",
    "version": 3
   },
   "file_extension": ".py",
   "mimetype": "text/x-python",
   "name": "python",
   "nbconvert_exporter": "python",
   "pygments_lexer": "ipython3",
   "version": "3.9.15"
  },
  "vscode": {
   "interpreter": {
    "hash": "f08154012ddadd8e950e6e9e035c7a7b32c136e7647e9b7c77e02eb723a8bedb"
   }
  }
 },
 "nbformat": 4,
 "nbformat_minor": 4
}
